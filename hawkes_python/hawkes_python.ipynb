{
 "cells": [
  {
   "cell_type": "code",
   "execution_count": 194,
   "metadata": {},
   "outputs": [
    {
     "ename": "SyntaxError",
     "evalue": "can't assign to literal (<ipython-input-194-773529199c6e>, line 23)",
     "output_type": "error",
     "traceback": [
      "\u001b[0;36m  File \u001b[0;32m\"<ipython-input-194-773529199c6e>\"\u001b[0;36m, line \u001b[0;32m23\u001b[0m\n\u001b[0;31m    1, T[k]=propagate(node_list[0],theta,E,T[k])\u001b[0m\n\u001b[0m    ^\u001b[0m\n\u001b[0;31mSyntaxError\u001b[0m\u001b[0;31m:\u001b[0m can't assign to literal\n"
     ]
    }
   ],
   "source": [
    "%matplotlib inline\n",
    "import matplotlib.pyplot as plt\n",
    "import numpy as np\n",
    "\n",
    "def propagate(i,theta,E,T):\n",
    "    l=E[E[:,0]==i,1]\n",
    "    N=len(l)\n",
    "    if N>0:\n",
    "        v=np.random.rand(N)<theta\n",
    "        l=l[v]\n",
    "    T=T+len(l)\n",
    "    return l,T\n",
    "    \n",
    "\n",
    "def sample_hawkes (E,Nsamples,theta):\n",
    "    N=len(np.unique(E[:,1]))\n",
    "    T=np.ones(Nsamples)\n",
    "    \n",
    "    for k in range(0,Nsamples):\n",
    "            i=np.random.randint(0,N)\n",
    "            node_list=np.asarray([i])\n",
    "            while len(node_list)>0:\n",
    "                1, T[k]=propagate(node_list[0],theta,E,T[k])\n",
    "                #l=prop[0]\n",
    "                #T[k]=prop[1]\n",
    "                node_list=node_list[1:]\n",
    "                if len(l)!=0:\n",
    "                    node_list=np.append(node_list,l)\n",
    "    T=np.mean(T)\n",
    "    return T \n",
    "    "
   ]
  },
  {
   "cell_type": "code",
   "execution_count": 51,
   "metadata": {},
   "outputs": [],
   "source": [
    "testTE_1 = np.array([[2,3,1,0],[3,1,2,1],[1,2,3,2],[0,1,2,4]])\n",
    "testE_1=np.array([[1,2],[1,4],[2,5],[3,6]])"
   ]
  },
  {
   "cell_type": "code",
   "execution_count": 161,
   "metadata": {},
   "outputs": [
    {
     "name": "stdout",
     "output_type": "stream",
     "text": [
      "[array([], dtype=int64), 1.0]\n",
      "node list [], infected neighbors: []\n",
      "[array([], dtype=int64), 1.0]\n",
      "node list [], infected neighbors: []\n",
      "[array([], dtype=int64), 1.0]\n",
      "node list [], infected neighbors: []\n",
      "[array([], dtype=int64), 1.0]\n",
      "node list [], infected neighbors: []\n",
      "[array([], dtype=int64), 1.0]\n",
      "node list [], infected neighbors: []\n",
      "[array([], dtype=int64), 1.0]\n",
      "node list [], infected neighbors: []\n",
      "[array([], dtype=int64), 1.0]\n",
      "node list [], infected neighbors: []\n",
      "[array([], dtype=int64), 1.0]\n",
      "node list [], infected neighbors: []\n",
      "[array([], dtype=int64), 1.0]\n",
      "node list [], infected neighbors: []\n",
      "[array([], dtype=int64), 1.0]\n",
      "node list [], infected neighbors: []\n"
     ]
    },
    {
     "data": {
      "text/plain": [
       "1.0"
      ]
     },
     "execution_count": 161,
     "metadata": {},
     "output_type": "execute_result"
    }
   ],
   "source": [
    "\n",
    "sample_hawkes(testE_1,10,0.001)\n"
   ]
  },
  {
   "cell_type": "code",
   "execution_count": 139,
   "metadata": {},
   "outputs": [],
   "source": [
    "from numpy import loadtxt\n",
    "lines = loadtxt(\"soc-anybeat.txt\", comments=\"#\", delimiter=\" \", unpack=False)"
   ]
  },
  {
   "cell_type": "code",
   "execution_count": 175,
   "metadata": {},
   "outputs": [
    {
     "data": {
      "text/plain": [
       "array([[1.0000e+00, 4.1520e+03],\n",
       "       [1.0000e+00, 9.3200e+02],\n",
       "       [2.0000e+00, 5.6810e+03],\n",
       "       ...,\n",
       "       [1.2643e+04, 5.2500e+03],\n",
       "       [1.2644e+04, 4.1520e+03],\n",
       "       [1.2644e+04, 9.0880e+03]])"
      ]
     },
     "execution_count": 175,
     "metadata": {},
     "output_type": "execute_result"
    }
   ],
   "source": [
    "lines"
   ]
  },
  {
   "cell_type": "code",
   "execution_count": 195,
   "metadata": {},
   "outputs": [
    {
     "name": "stdout",
     "output_type": "stream",
     "text": [
      "rate is 0.0\n",
      "rate is 0.0001\n",
      "rate is 0.0002\n",
      "rate is 0.00030000000000000003\n",
      "rate is 0.0004\n",
      "rate is 0.0005\n",
      "rate is 0.0006000000000000001\n",
      "rate is 0.0007\n",
      "rate is 0.0008\n",
      "rate is 0.0009000000000000001\n",
      "rate is 0.001\n",
      "rate is 0.0011\n",
      "rate is 0.0012000000000000001\n",
      "rate is 0.0013000000000000002\n",
      "rate is 0.0014\n",
      "rate is 0.0015\n",
      "rate is 0.0016\n",
      "rate is 0.0017000000000000001\n",
      "rate is 0.0018000000000000002\n",
      "rate is 0.0019\n",
      "rate is 0.002\n",
      "rate is 0.0021000000000000003\n",
      "rate is 0.0022\n",
      "rate is 0.0023\n",
      "rate is 0.0024000000000000002\n",
      "rate is 0.0025\n",
      "rate is 0.0026000000000000003\n",
      "rate is 0.0027\n",
      "rate is 0.0028\n",
      "rate is 0.0029000000000000002\n",
      "rate is 0.003\n",
      "rate is 0.0031000000000000003\n",
      "rate is 0.0032\n",
      "rate is 0.0033\n",
      "rate is 0.0034000000000000002\n",
      "rate is 0.0035\n",
      "rate is 0.0036000000000000003\n",
      "rate is 0.0037\n",
      "rate is 0.0038\n",
      "rate is 0.0039000000000000003\n",
      "rate is 0.004\n",
      "rate is 0.0041\n",
      "rate is 0.004200000000000001\n",
      "rate is 0.0043\n",
      "rate is 0.0044\n",
      "rate is 0.0045000000000000005\n",
      "rate is 0.0046\n",
      "rate is 0.0047\n",
      "rate is 0.0048000000000000004\n",
      "rate is 0.0049\n",
      "rate is 0.005\n",
      "rate is 0.0051\n",
      "rate is 0.005200000000000001\n",
      "rate is 0.0053\n",
      "rate is 0.0054\n",
      "rate is 0.0055000000000000005\n",
      "rate is 0.0056\n",
      "rate is 0.0057\n",
      "rate is 0.0058000000000000005\n",
      "rate is 0.0059\n",
      "rate is 0.006\n",
      "rate is 0.0061\n",
      "rate is 0.006200000000000001\n",
      "rate is 0.0063\n",
      "rate is 0.0064\n",
      "rate is 0.006500000000000001\n",
      "rate is 0.0066\n",
      "rate is 0.0067\n",
      "rate is 0.0068000000000000005\n",
      "rate is 0.006900000000000001\n",
      "rate is 0.007\n",
      "rate is 0.0071\n",
      "rate is 0.007200000000000001\n",
      "rate is 0.0073\n",
      "rate is 0.0074\n",
      "rate is 0.007500000000000001\n",
      "rate is 0.0076\n",
      "rate is 0.0077\n",
      "rate is 0.0078000000000000005\n",
      "rate is 0.0079\n",
      "rate is 0.008\n",
      "rate is 0.0081\n",
      "rate is 0.0082\n",
      "rate is 0.0083\n",
      "rate is 0.008400000000000001\n",
      "rate is 0.0085\n",
      "rate is 0.0086\n",
      "rate is 0.008700000000000001\n",
      "rate is 0.0088\n",
      "rate is 0.0089\n",
      "rate is 0.009000000000000001\n",
      "rate is 0.0091\n",
      "rate is 0.0092\n",
      "rate is 0.009300000000000001\n",
      "rate is 0.0094\n",
      "rate is 0.0095\n",
      "rate is 0.009600000000000001\n",
      "rate is 0.0097\n",
      "rate is 0.0098\n",
      "rate is 0.0099\n"
     ]
    },
    {
     "data": {
      "text/plain": [
       "[<matplotlib.lines.Line2D at 0x107aea668>]"
      ]
     },
     "execution_count": 195,
     "metadata": {},
     "output_type": "execute_result"
    },
    {
     "data": {
      "image/png": "[encoded data removed]",
      "text/plain": [
       "<matplotlib.figure.Figure at 0x103b4b0f0>"
      ]
     },
     "metadata": {},
     "output_type": "display_data"
    }
   ],
   "source": [
    "vals=np.zeros(100)\n",
    "for i in np.arange(0,0.01,0.0001):\n",
    "    print(\"rate is \"+str(i))\n",
    "    vals[int(i*10000)]=sample_hawkes(lines,100,i)\n",
    "plt.plot(vals)"
   ]
  },
  {
   "cell_type": "code",
   "execution_count": 150,
   "metadata": {},
   "outputs": [
    {
     "data": {
      "text/plain": [
       "array([ 0.,  1.,  2.,  3.,  4.,  5.,  6.,  7.,  8.,  9., 10., 11., 12.,\n",
       "       13., 14., 15., 16., 17., 18., 19., 20., 21., 22., 23., 24., 25.,\n",
       "       26., 27., 28., 29., 30., 31., 32., 33., 34., 35., 36., 37., 38.,\n",
       "       39., 40., 41., 42., 43., 44., 45., 46., 47., 48., 49., 50., 51.,\n",
       "       52., 53., 54., 55., 56., 57., 58., 59., 60., 61., 62., 63., 64.,\n",
       "       65., 66., 67., 68., 69., 70., 71., 72., 73., 74., 75., 76., 77.,\n",
       "       78., 79., 80., 81., 82., 83., 84., 85., 86., 87., 88., 89., 90.,\n",
       "       91., 92., 93., 94., 95., 96., 97., 98., 99.])"
      ]
     },
     "execution_count": 150,
     "metadata": {},
     "output_type": "execute_result"
    }
   ],
   "source": [
    "np.arange(0,0.1,0.001)*1000"
   ]
  },
  {
   "cell_type": "code",
   "execution_count": 155,
   "metadata": {},
   "outputs": [
    {
     "data": {
      "text/plain": [
       "array([2, 3, 4])"
      ]
     },
     "execution_count": 155,
     "metadata": {},
     "output_type": "execute_result"
    }
   ],
   "source": [
    "l[1:]"
   ]
  },
  {
   "cell_type": "code",
   "execution_count": null,
   "metadata": {
    "collapsed": true
   },
   "outputs": [],
   "source": []
  }
 ],
 "metadata": {
  "kernelspec": {
   "display_name": "Python 3",
   "language": "python",
   "name": "python3"
  },
  "language_info": {
   "codemirror_mode": {
    "name": "ipython",
    "version": 3
   },
   "file_extension": ".py",
   "mimetype": "text/x-python",
   "name": "python",
   "nbconvert_exporter": "python",
   "pygments_lexer": "ipython3",
   "version": "3.6.5"
  }
 },
 "nbformat": 4,
 "nbformat_minor": 2
}
